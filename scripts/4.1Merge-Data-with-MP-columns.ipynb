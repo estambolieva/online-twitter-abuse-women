{
 "cells": [
  {
   "cell_type": "code",
   "execution_count": 4,
   "metadata": {
    "collapsed": true
   },
   "outputs": [],
   "source": [
    "prefices = [\n",
    "    \"jan\",\n",
    "    \"feb\",\n",
    "    \"mar\",\n",
    "    \"apr\",\n",
    "    \"may\",\n",
    "    \"jun\"\n",
    "]"
   ]
  },
  {
   "cell_type": "code",
   "execution_count": 5,
   "metadata": {
    "collapsed": true
   },
   "outputs": [],
   "source": [
    "import csv"
   ]
  },
  {
   "cell_type": "code",
   "execution_count": 9,
   "metadata": {
    "collapsed": false
   },
   "outputs": [],
   "source": [
    "for prefix in prefices:\n",
    "    with open(\"../data/hackathon/data/workable/\" + prefix + \"-17_train_preped_5.csv\", \"w\") as output_handle:\n",
    "        writer = csv.writer(output_handle)\n",
    "        with open(\"../data/hackathon/data/workable/\" + prefix + \"-17_reduced_4.csv\", \"r\") as handle1:\n",
    "            reader1 = csv.reader(handle1)\n",
    "            with open(\"../data/hackathon/data/workable/\" + prefix + \"-17_mentions_3.csv\", \"r\") as handle2:\n",
    "                reader2 = csv.reader(handle2)\n",
    "                for row1,row2 in zip(reader1, reader2):\n",
    "                    header = row1\n",
    "                    header.extend(row2)\n",
    "                    writer.writerow(header)"
   ]
  },
  {
   "cell_type": "code",
   "execution_count": null,
   "metadata": {
    "collapsed": true
   },
   "outputs": [],
   "source": []
  }
 ],
 "metadata": {
  "kernelspec": {
   "display_name": "Python 3",
   "language": "python",
   "name": "python3"
  },
  "language_info": {
   "codemirror_mode": {
    "name": "ipython",
    "version": 3
   },
   "file_extension": ".py",
   "mimetype": "text/x-python",
   "name": "python",
   "nbconvert_exporter": "python",
   "pygments_lexer": "ipython3",
   "version": "3.5.2"
  }
 },
 "nbformat": 4,
 "nbformat_minor": 2
}
