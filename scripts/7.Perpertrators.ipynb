{
 "cells": [
  {
   "cell_type": "code",
   "execution_count": 2,
   "metadata": {
    "collapsed": true
   },
   "outputs": [],
   "source": [
    "import seaborn as sns\n",
    "import matplotlib.pyplot as plt\n",
    "plt.style.use('ggplot')\n",
    "%matplotlib inline\n",
    "import pandas as pd\n",
    "import numpy as np\n",
    "import operator\n",
    "import numpy as np\n",
    "import datetime\n",
    "from pylab import *"
   ]
  },
  {
   "cell_type": "code",
   "execution_count": 3,
   "metadata": {
    "collapsed": true
   },
   "outputs": [],
   "source": [
    "prefices = [\n",
    "    \"jan\",\n",
    "    \"feb\",\n",
    "    \"mar\",\n",
    "    \"apr\",\n",
    "    \"may\",\n",
    "    \"jun\"\n",
    "]\n",
    "# twitter handles\n",
    "perpertrators = []\n",
    "all_authors = []"
   ]
  },
  {
   "cell_type": "code",
   "execution_count": 4,
   "metadata": {
    "collapsed": false
   },
   "outputs": [],
   "source": [
    "name_col = \"Name\"\n",
    "gen_col = \"Gender\"\n",
    "handle_col = \"Author\"\n",
    "post_col = \"Posts\"\n",
    "followers_col = \"Followers\"\n",
    "following_col = \"Following\""
   ]
  },
  {
   "cell_type": "markdown",
   "metadata": {},
   "source": [
    "### 1. Number of Perpertrators v.s. Number of Authors"
   ]
  },
  {
   "cell_type": "code",
   "execution_count": 6,
   "metadata": {
    "collapsed": false
   },
   "outputs": [
    {
     "name": "stdout",
     "output_type": "stream",
     "text": [
      "There are 16707 pperpertrators.\n"
     ]
    }
   ],
   "source": [
    "for prefix in prefices:\n",
    "    df = pd.read_csv(\"../data/hackathon/data/workable/sentiment/\" + prefix + \"-17_sentiment.csv\")\n",
    "    this_perpertrators = df[handle_col]\n",
    "    perpertrators.extend(this_perpertrators.unique())\n",
    "\n",
    "perpertrators = set(perpertrators)\n",
    "print(\"There are %s pperpertrators.\" % len(perpertrators))"
   ]
  },
  {
   "cell_type": "code",
   "execution_count": 7,
   "metadata": {
    "collapsed": false
   },
   "outputs": [
    {
     "name": "stdout",
     "output_type": "stream",
     "text": [
      "354661\n"
     ]
    },
    {
     "name": "stderr",
     "output_type": "stream",
     "text": [
      "/home/katia/.virtualenvs/securaxis/lib/python3.5/site-packages/IPython/core/interactiveshell.py:2717: DtypeWarning: Columns (0,9,10,12,14,15,16) have mixed types. Specify dtype option on import or set low_memory=False.\n",
      "  interactivity=interactivity, compiler=compiler, result=result)\n"
     ]
    }
   ],
   "source": [
    "for prefix in prefices:\n",
    "    df = pd.read_csv(\"../data/hackathon/data/\" + prefix + \"-17.csv\", encoding=\"ISO-8859-1\")\n",
    "    authors = df[handle_col]\n",
    "    all_authors.extend(authors.unique())\n",
    "    \n",
    "all_authors = set(all_authors)\n",
    "print(len(all_authors))"
   ]
  },
  {
   "cell_type": "code",
   "execution_count": 8,
   "metadata": {
    "collapsed": true
   },
   "outputs": [],
   "source": [
    "plt_list = [len(perpertrators), len(all_authors)]\n",
    "labels = [\"Perpertrators\", \"All Authors\"]"
   ]
  },
  {
   "cell_type": "code",
   "execution_count": 9,
   "metadata": {
    "collapsed": false
   },
   "outputs": [
    {
     "data": {
      "image/png": "[encoded data removed]",
      "text/plain": [
       "<matplotlib.figure.Figure at 0x7fbec1568748>"
      ]
     },
     "metadata": {},
     "output_type": "display_data"
    }
   ],
   "source": [
    "fig1, ax1 = plt.subplots()\n",
    "explode = (0, 0.1)  # only \"explode\" the 1nd slice (i.e. 'White')\n",
    "ax1.pie(\n",
    "    plt_list,\n",
    "    explode=explode,\n",
    "    labels=labels,\n",
    "    autopct='%1.1f%%',\n",
    "    shadow=False,\n",
    "    colors = [\"#c966ff\", \"#66ffc9\"],\n",
    "    startangle=90)\n",
    "\n",
    "plt.title(\"Percentage of Perpertrators\")\n",
    "plt.savefig('../results/network_analysis/perpertrators.png')"
   ]
  },
  {
   "cell_type": "markdown",
   "metadata": {},
   "source": [
    "### 2. Volume of Abusive Tweets per Perpertrator"
   ]
  },
  {
   "cell_type": "code",
   "execution_count": 10,
   "metadata": {
    "collapsed": false
   },
   "outputs": [],
   "source": [
    "perpertrator_volume = {}\n",
    "for perpertrator in perpertrators:\n",
    "    perpertrator_volume[perpertrator] = 0\n",
    "    \n",
    "for prefix in prefices:\n",
    "    df = pd.read_csv(\"../data/hackathon/data/workable/sentiment/\" + prefix + \"-17_sentiment.csv\")\n",
    "    for perpertrator in perpertrators:\n",
    "        df_per = df[handle_col][df[handle_col] == perpertrator]\n",
    "        old_volume = perpertrator_volume[perpertrator]\n",
    "        perpertrator_volume[perpertrator] = old_volume + df_per.shape[0]"
   ]
  },
  {
   "cell_type": "code",
   "execution_count": 11,
   "metadata": {
    "collapsed": true
   },
   "outputs": [],
   "source": [
    "df_perpertrators = pd.DataFrame(list(perpertrator_volume.items()),\n",
    "                      columns=['author','no_abusive_tweets'])"
   ]
  },
  {
   "cell_type": "code",
   "execution_count": 12,
   "metadata": {
    "collapsed": false
   },
   "outputs": [],
   "source": [
    "df_perpertrators = df_perpertrators.sort_values(by=\"no_abusive_tweets\", ascending=False)"
   ]
  },
  {
   "cell_type": "code",
   "execution_count": 13,
   "metadata": {
    "collapsed": false
   },
   "outputs": [
    {
     "data": {
      "text/html": [
       "<div>\n",
       "<table border=\"1\" class=\"dataframe\">\n",
       "  <thead>\n",
       "    <tr style=\"text-align: right;\">\n",
       "      <th></th>\n",
       "      <th>author</th>\n",
       "      <th>no_abusive_tweets</th>\n",
       "    </tr>\n",
       "  </thead>\n",
       "  <tbody>\n",
       "    <tr>\n",
       "      <th>12829</th>\n",
       "      <td>@king_darran</td>\n",
       "      <td>236</td>\n",
       "    </tr>\n",
       "    <tr>\n",
       "      <th>12312</th>\n",
       "      <td>@DaraMiah786</td>\n",
       "      <td>66</td>\n",
       "    </tr>\n",
       "    <tr>\n",
       "      <th>4590</th>\n",
       "      <td>@DANGEROUS_ToyP</td>\n",
       "      <td>63</td>\n",
       "    </tr>\n",
       "    <tr>\n",
       "      <th>10390</th>\n",
       "      <td>@labour_zone</td>\n",
       "      <td>59</td>\n",
       "    </tr>\n",
       "    <tr>\n",
       "      <th>7158</th>\n",
       "      <td>@djrae1981</td>\n",
       "      <td>55</td>\n",
       "    </tr>\n",
       "  </tbody>\n",
       "</table>\n",
       "</div>"
      ],
      "text/plain": [
       "                author  no_abusive_tweets\n",
       "12829     @king_darran                236\n",
       "12312     @DaraMiah786                 66\n",
       "4590   @DANGEROUS_ToyP                 63\n",
       "10390     @labour_zone                 59\n",
       "7158        @djrae1981                 55"
      ]
     },
     "execution_count": 13,
     "metadata": {},
     "output_type": "execute_result"
    }
   ],
   "source": [
    "df_perpertrators.head()"
   ]
  },
  {
   "cell_type": "code",
   "execution_count": 14,
   "metadata": {
    "collapsed": false
   },
   "outputs": [
    {
     "data": {
      "text/plain": [
       "[1.4842767295597483,\n",
       " 0.41509433962264153,\n",
       " 0.39622641509433965,\n",
       " 0.37106918238993708,\n",
       " 0.34591194968553457]"
      ]
     },
     "execution_count": 14,
     "metadata": {},
     "output_type": "execute_result"
    }
   ],
   "source": [
    "list((df_perpertrators.no_abusive_tweets/159).head())"
   ]
  },
  {
   "cell_type": "code",
   "execution_count": 15,
   "metadata": {
    "collapsed": false
   },
   "outputs": [
    {
     "data": {
      "image/png": "[encoded data removed]",
      "text/plain": [
       "<matplotlib.figure.Figure at 0x7fbec215d8d0>"
      ]
     },
     "metadata": {},
     "output_type": "display_data"
    }
   ],
   "source": [
    "plt_list = list((df_perpertrators.no_abusive_tweets/159).head())\n",
    "labels = [\"Top 1\", \"Top 2\", \"Top 3\", \"Top 4\", \"Top 5\"]\n",
    "\n",
    "y_pos = np.arange(len(plt_list))\n",
    "plt.bar(\n",
    "    y_pos,\n",
    "    plt_list,\n",
    "    align=\"center\",\n",
    "    color = \"#f8766d\",\n",
    "    alpha=0.8,\n",
    "    width=0.4\n",
    ")\n",
    "plt.xticks(y_pos, labels)\n",
    "plt.xlabel(\"Top Perpertrators\")\n",
    "plt.ylabel('# abusive tweets posted per day')\n",
    "\n",
    "ylim([0,5])\n",
    "\n",
    "plt.title(\"Top Perpertrators Daily Abuse Volume\")\n",
    "plt.savefig('../results/network_analysis/top5_perpertrator_volume_per_day_bar_chart.png')"
   ]
  },
  {
   "cell_type": "markdown",
   "metadata": {},
   "source": [
    "#### Q: Are @labour_zone (Top 1) & tory_zone (Top 5) abusive?"
   ]
  },
  {
   "cell_type": "markdown",
   "metadata": {},
   "source": [
    "@labour_zone tweets:\n",
    "from June:\n",
    "- @HackneyAbbott @theresa_may Her treatment of u has been disgusting. What a vile woman.\n",
    "- @waterworth_ann @HackneyAbbott @jeremycorbyn That's stupidity and madness.\n",
    "- #LabourManifesto must've been calculated by @HackneyAbbott £50 billion hole in their funds. #CorbynLies #LabourLies #VoteTory\n",
    "- I wouldn't trust @HackneyAbbott to wipe my arse.\n",
    "- RT @Seinneann @JoeThorpe1963 @danielh_g @edatkinson1 @HackneyAbbott Nope. You're just a bellend with a keyboard and a need to defecate your uninformed sexist, racist and idiotic opinions all over twitter.\n",
    "\n",
    "from May:\n",
    "- @NorthernKitty69 @BritishTeetotal @JaydaBF @lucyallan  When will you brainwashed fools realise your BUBBLE has burst. NWO will not happen.\n",
    "- @annaturley stupid person\n",
    "- @YvetteCooperMP These idiots think they can win an election spouting 16 year old feminist propaganda, deary me.\n",
    "- @jessphillips @PhilipDaviesMP difference is that you're a sexist piece of shit."
   ]
  },
  {
   "cell_type": "markdown",
   "metadata": {},
   "source": [
    "### 3. Percentage of what the perpertrators tweet about MPs is abuse?"
   ]
  },
  {
   "cell_type": "code",
   "execution_count": 75,
   "metadata": {
    "collapsed": false
   },
   "outputs": [
    {
     "data": {
      "text/html": [
       "<div>\n",
       "<table border=\"1\" class=\"dataframe\">\n",
       "  <thead>\n",
       "    <tr style=\"text-align: right;\">\n",
       "      <th></th>\n",
       "      <th>author</th>\n",
       "      <th>no_abusive_tweets</th>\n",
       "      <th>no_tweets</th>\n",
       "    </tr>\n",
       "  </thead>\n",
       "  <tbody>\n",
       "    <tr>\n",
       "      <th>13167</th>\n",
       "      <td>@labour_zone</td>\n",
       "      <td>549</td>\n",
       "      <td>0</td>\n",
       "    </tr>\n",
       "    <tr>\n",
       "      <th>16061</th>\n",
       "      <td>@LabLondon_zone</td>\n",
       "      <td>165</td>\n",
       "      <td>0</td>\n",
       "    </tr>\n",
       "    <tr>\n",
       "      <th>928</th>\n",
       "      <td>@SNP_tweets</td>\n",
       "      <td>114</td>\n",
       "      <td>0</td>\n",
       "    </tr>\n",
       "    <tr>\n",
       "      <th>17686</th>\n",
       "      <td>@Labour_North</td>\n",
       "      <td>95</td>\n",
       "      <td>0</td>\n",
       "    </tr>\n",
       "    <tr>\n",
       "      <th>5664</th>\n",
       "      <td>@tory_zone</td>\n",
       "      <td>74</td>\n",
       "      <td>0</td>\n",
       "    </tr>\n",
       "  </tbody>\n",
       "</table>\n",
       "</div>"
      ],
      "text/plain": [
       "                author  no_abusive_tweets  no_tweets\n",
       "13167     @labour_zone                549          0\n",
       "16061  @LabLondon_zone                165          0\n",
       "928        @SNP_tweets                114          0\n",
       "17686    @Labour_North                 95          0\n",
       "5664        @tory_zone                 74          0"
      ]
     },
     "execution_count": 75,
     "metadata": {},
     "output_type": "execute_result"
    }
   ],
   "source": [
    "df_perpertrators['no_tweets'] = [0] * df_perpertrators.shape[0]\n",
    "df_perpertrators.head()"
   ]
  },
  {
   "cell_type": "code",
   "execution_count": 87,
   "metadata": {
    "collapsed": false
   },
   "outputs": [
    {
     "name": "stdout",
     "output_type": "stream",
     "text": [
      "2249564\n"
     ]
    },
    {
     "name": "stderr",
     "output_type": "stream",
     "text": [
      "/home/katia/.virtualenvs/securaxis/lib/python3.5/site-packages/IPython/core/interactiveshell.py:2717: DtypeWarning: Columns (0,9,10,12,14,15,16) have mixed types. Specify dtype option on import or set low_memory=False.\n",
      "  interactivity=interactivity, compiler=compiler, result=result)\n"
     ]
    }
   ],
   "source": [
    "all_authors = []\n",
    "for prefix in prefices:\n",
    "    df = pd.read_csv(\"../data/hackathon/data/\" + prefix + \"-17.csv\", encoding=\"ISO-8859-1\")\n",
    "    authors = df[handle_col]\n",
    "    all_authors.extend(authors)\n",
    "    \n",
    "all_authors\n",
    "print(len(all_authors))"
   ]
  },
  {
   "cell_type": "code",
   "execution_count": 90,
   "metadata": {
    "collapsed": false
   },
   "outputs": [
    {
     "data": {
      "text/plain": [
       "@labour_zone       32892\n",
       "@LabLondon_zone     7651\n",
       "@SNP_tweets         6142\n",
       "@Labour_North       4517\n",
       "@tory_zone          4444\n",
       "dtype: int64"
      ]
     },
     "execution_count": 90,
     "metadata": {},
     "output_type": "execute_result"
    }
   ],
   "source": [
    "all_authors_pd = pd.Series(all_authors)\n",
    "all_authors_pd.value_counts().head()"
   ]
  },
  {
   "cell_type": "code",
   "execution_count": 106,
   "metadata": {
    "collapsed": false
   },
   "outputs": [
    {
     "data": {
      "text/html": [
       "<div>\n",
       "<table border=\"1\" class=\"dataframe\">\n",
       "  <thead>\n",
       "    <tr style=\"text-align: right;\">\n",
       "      <th></th>\n",
       "      <th>author</th>\n",
       "      <th>no_abusive_tweets</th>\n",
       "      <th>no_tweets</th>\n",
       "    </tr>\n",
       "    <tr>\n",
       "      <th>author</th>\n",
       "      <th></th>\n",
       "      <th></th>\n",
       "      <th></th>\n",
       "    </tr>\n",
       "  </thead>\n",
       "  <tbody>\n",
       "    <tr>\n",
       "      <th>@labour_zone</th>\n",
       "      <td>@labour_zone</td>\n",
       "      <td>549</td>\n",
       "      <td>NaN</td>\n",
       "    </tr>\n",
       "    <tr>\n",
       "      <th>@LabLondon_zone</th>\n",
       "      <td>@LabLondon_zone</td>\n",
       "      <td>165</td>\n",
       "      <td>NaN</td>\n",
       "    </tr>\n",
       "    <tr>\n",
       "      <th>@SNP_tweets</th>\n",
       "      <td>@SNP_tweets</td>\n",
       "      <td>114</td>\n",
       "      <td>NaN</td>\n",
       "    </tr>\n",
       "    <tr>\n",
       "      <th>@Labour_North</th>\n",
       "      <td>@Labour_North</td>\n",
       "      <td>95</td>\n",
       "      <td>NaN</td>\n",
       "    </tr>\n",
       "    <tr>\n",
       "      <th>@tory_zone</th>\n",
       "      <td>@tory_zone</td>\n",
       "      <td>74</td>\n",
       "      <td>NaN</td>\n",
       "    </tr>\n",
       "  </tbody>\n",
       "</table>\n",
       "</div>"
      ],
      "text/plain": [
       "                          author  no_abusive_tweets  no_tweets\n",
       "author                                                        \n",
       "@labour_zone        @labour_zone                549        NaN\n",
       "@LabLondon_zone  @LabLondon_zone                165        NaN\n",
       "@SNP_tweets          @SNP_tweets                114        NaN\n",
       "@Labour_North      @Labour_North                 95        NaN\n",
       "@tory_zone            @tory_zone                 74        NaN"
      ]
     },
     "execution_count": 106,
     "metadata": {},
     "output_type": "execute_result"
    }
   ],
   "source": [
    "authors = all_authors_pd.value_counts()\n",
    "df_perpertrators.set_index(df_perpertrators.author, inplace=True)\n",
    "df_perpertrators.head()"
   ]
  },
  {
   "cell_type": "raw",
   "metadata": {},
   "source": [
    "df_perpertrators.no_tweets[df_perpertrators.index.isin(authors.index)] = authors"
   ]
  },
  {
   "cell_type": "code",
   "execution_count": 108,
   "metadata": {
    "collapsed": false
   },
   "outputs": [
    {
     "data": {
      "text/html": [
       "<div>\n",
       "<table border=\"1\" class=\"dataframe\">\n",
       "  <thead>\n",
       "    <tr style=\"text-align: right;\">\n",
       "      <th></th>\n",
       "      <th>author</th>\n",
       "      <th>no_abusive_tweets</th>\n",
       "      <th>no_tweets</th>\n",
       "    </tr>\n",
       "    <tr>\n",
       "      <th>author</th>\n",
       "      <th></th>\n",
       "      <th></th>\n",
       "      <th></th>\n",
       "    </tr>\n",
       "  </thead>\n",
       "  <tbody>\n",
       "    <tr>\n",
       "      <th>@labour_zone</th>\n",
       "      <td>@labour_zone</td>\n",
       "      <td>549</td>\n",
       "      <td>NaN</td>\n",
       "    </tr>\n",
       "    <tr>\n",
       "      <th>@LabLondon_zone</th>\n",
       "      <td>@LabLondon_zone</td>\n",
       "      <td>165</td>\n",
       "      <td>NaN</td>\n",
       "    </tr>\n",
       "    <tr>\n",
       "      <th>@SNP_tweets</th>\n",
       "      <td>@SNP_tweets</td>\n",
       "      <td>114</td>\n",
       "      <td>NaN</td>\n",
       "    </tr>\n",
       "    <tr>\n",
       "      <th>@Labour_North</th>\n",
       "      <td>@Labour_North</td>\n",
       "      <td>95</td>\n",
       "      <td>NaN</td>\n",
       "    </tr>\n",
       "    <tr>\n",
       "      <th>@tory_zone</th>\n",
       "      <td>@tory_zone</td>\n",
       "      <td>74</td>\n",
       "      <td>NaN</td>\n",
       "    </tr>\n",
       "  </tbody>\n",
       "</table>\n",
       "</div>"
      ],
      "text/plain": [
       "                          author  no_abusive_tweets  no_tweets\n",
       "author                                                        \n",
       "@labour_zone        @labour_zone                549        NaN\n",
       "@LabLondon_zone  @LabLondon_zone                165        NaN\n",
       "@SNP_tweets          @SNP_tweets                114        NaN\n",
       "@Labour_North      @Labour_North                 95        NaN\n",
       "@tory_zone            @tory_zone                 74        NaN"
      ]
     },
     "execution_count": 108,
     "metadata": {},
     "output_type": "execute_result"
    }
   ],
   "source": [
    "df_perpertrators.head()"
   ]
  },
  {
   "cell_type": "code",
   "execution_count": 110,
   "metadata": {
    "collapsed": false
   },
   "outputs": [
    {
     "data": {
      "text/plain": [
       "28822"
      ]
     },
     "execution_count": 110,
     "metadata": {},
     "output_type": "execute_result"
    }
   ],
   "source": [
    "df_perpertrators.index.isin(authors.index).sum()"
   ]
  },
  {
   "cell_type": "code",
   "execution_count": 111,
   "metadata": {
    "collapsed": false
   },
   "outputs": [
    {
     "data": {
      "text/plain": [
       "(46037, 3)"
      ]
     },
     "execution_count": 111,
     "metadata": {},
     "output_type": "execute_result"
    }
   ],
   "source": [
    "df_perpertrators.shape"
   ]
  },
  {
   "cell_type": "code",
   "execution_count": 112,
   "metadata": {
    "collapsed": false
   },
   "outputs": [
    {
     "data": {
      "text/plain": [
       "(354660,)"
      ]
     },
     "execution_count": 112,
     "metadata": {},
     "output_type": "execute_result"
    }
   ],
   "source": [
    "authors.shape"
   ]
  },
  {
   "cell_type": "code",
   "execution_count": 113,
   "metadata": {
    "collapsed": false
   },
   "outputs": [
    {
     "data": {
      "text/plain": [
       "8.0       692\n",
       "9.0       640\n",
       "10.0      599\n",
       "11.0      502\n",
       "14.0      465\n",
       "12.0      461\n",
       "13.0      443\n",
       "15.0      418\n",
       "17.0      384\n",
       "16.0      359\n",
       "19.0      356\n",
       "18.0      318\n",
       "22.0      298\n",
       "20.0      298\n",
       "21.0      293\n",
       "24.0      265\n",
       "23.0      261\n",
       "25.0      255\n",
       "26.0      249\n",
       "28.0      230\n",
       "29.0      227\n",
       "27.0      224\n",
       "32.0      207\n",
       "31.0      191\n",
       "33.0      188\n",
       "30.0      186\n",
       "35.0      178\n",
       "34.0      170\n",
       "36.0      157\n",
       "38.0      153\n",
       "         ... \n",
       "432.0       1\n",
       "621.0       1\n",
       "659.0       1\n",
       "899.0       1\n",
       "415.0       1\n",
       "4444.0      1\n",
       "636.0       1\n",
       "876.0       1\n",
       "536.0       1\n",
       "566.0       1\n",
       "760.0       1\n",
       "387.0       1\n",
       "813.0       1\n",
       "552.0       1\n",
       "408.0       1\n",
       "726.0       1\n",
       "3414.0      1\n",
       "454.0       1\n",
       "524.0       1\n",
       "517.0       1\n",
       "789.0       1\n",
       "490.0       1\n",
       "464.0       1\n",
       "724.0       1\n",
       "355.0       1\n",
       "343.0       1\n",
       "579.0       1\n",
       "357.0       1\n",
       "1246.0      1\n",
       "1024.0      1\n",
       "Name: no_tweets, dtype: int64"
      ]
     },
     "execution_count": 113,
     "metadata": {},
     "output_type": "execute_result"
    }
   ],
   "source": [
    "df_perpertrators.no_tweets.value_counts()"
   ]
  },
  {
   "cell_type": "code",
   "execution_count": null,
   "metadata": {
    "collapsed": true
   },
   "outputs": [],
   "source": []
  }
 ],
 "metadata": {
  "kernelspec": {
   "display_name": "Python 3",
   "language": "python",
   "name": "python3"
  },
  "language_info": {
   "codemirror_mode": {
    "name": "ipython",
    "version": 3
   },
   "file_extension": ".py",
   "mimetype": "text/x-python",
   "name": "python",
   "nbconvert_exporter": "python",
   "pygments_lexer": "ipython3",
   "version": "3.5.2"
  }
 },
 "nbformat": 4,
 "nbformat_minor": 2
}
