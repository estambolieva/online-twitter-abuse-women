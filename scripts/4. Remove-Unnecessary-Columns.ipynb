{
 "cells": [
  {
   "cell_type": "code",
   "execution_count": 4,
   "metadata": {
    "collapsed": true
   },
   "outputs": [],
   "source": [
    "import csv\n",
    "import itertools\n",
    "zip = getattr(itertools, 'izip', zip)"
   ]
  },
  {
   "cell_type": "code",
   "execution_count": 5,
   "metadata": {
    "collapsed": true
   },
   "outputs": [],
   "source": [
    "prefices = [\n",
    "    \"jan\",\n",
    "    \"feb\",\n",
    "    \"mar\",\n",
    "    \"apr\",\n",
    "    \"may\",\n",
    "    \"jun\"\n",
    "]"
   ]
  },
  {
   "cell_type": "code",
   "execution_count": 6,
   "metadata": {
    "collapsed": true
   },
   "outputs": [],
   "source": [
    "column_indices = [\n",
    "    1, #Date\n",
    "    2, # URL\n",
    "    3, #Contents\n",
    "    4, #Author\n",
    "    5, #AuthorName\n",
    "    13, #Gender\n",
    "    14, #Post\n",
    "    15, #Followers\n",
    "    16, #Following\n",
    "    17 # TweetTok\n",
    "]"
   ]
  },
  {
   "cell_type": "code",
   "execution_count": 7,
   "metadata": {
    "collapsed": false
   },
   "outputs": [],
   "source": [
    "for filename_prefix in prefices:\n",
    "    with open(\"../data/hackathon/data/workable/\" + filename_prefix + \"-17_reduced_4.csv\", \"w\") as handle2:\n",
    "        writer = csv.writer(handle2)\n",
    "        with open(\"../data/hackathon/data/workable/\" + filename_prefix + \"-17_tok_2.csv\", \"r\") as handle:\n",
    "            reader = csv.reader(handle)\n",
    "            header = []\n",
    "            header_not_read = True\n",
    "            for row in reader:\n",
    "                if header_not_read:\n",
    "                    for ind in column_indices:\n",
    "                        header.append(row[ind])\n",
    "                    writer.writerow(header)\n",
    "                    header_not_read = False\n",
    "                    continue\n",
    "                line = []\n",
    "                for ind in column_indices:\n",
    "                    line.append(row[ind])\n",
    "                writer.writerow(line)\n"
   ]
  },
  {
   "cell_type": "code",
   "execution_count": null,
   "metadata": {
    "collapsed": true
   },
   "outputs": [],
   "source": []
  }
 ],
 "metadata": {
  "kernelspec": {
   "display_name": "Python 3",
   "language": "python",
   "name": "python3"
  },
  "language_info": {
   "codemirror_mode": {
    "name": "ipython",
    "version": 3
   },
   "file_extension": ".py",
   "mimetype": "text/x-python",
   "name": "python",
   "nbconvert_exporter": "python",
   "pygments_lexer": "ipython3",
   "version": "3.5.2"
  }
 },
 "nbformat": 4,
 "nbformat_minor": 2
}
