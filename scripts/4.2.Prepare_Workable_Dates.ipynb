{
 "cells": [
  {
   "cell_type": "code",
   "execution_count": 1,
   "metadata": {
    "collapsed": false
   },
   "outputs": [],
   "source": [
    "import pandas as pd\n",
    "import datetime"
   ]
  },
  {
   "cell_type": "code",
   "execution_count": 2,
   "metadata": {
    "collapsed": true
   },
   "outputs": [],
   "source": [
    "prefices = [\n",
    "    \"jan\",\n",
    "    \"feb\",\n",
    "    \"mar\",\n",
    "    \"apr\",\n",
    "    \"may\",\n",
    "    \"jun\"\n",
    "]"
   ]
  },
  {
   "cell_type": "code",
   "execution_count": 4,
   "metadata": {
    "collapsed": false
   },
   "outputs": [
    {
     "name": "stderr",
     "output_type": "stream",
     "text": [
      "/home/katia/.virtualenvs/securaxis/lib/python3.5/site-packages/IPython/core/interactiveshell.py:2717: DtypeWarning: Columns (6,7,8) have mixed types. Specify dtype option on import or set low_memory=False.\n",
      "  interactivity=interactivity, compiler=compiler, result=result)\n"
     ]
    },
    {
     "name": "stdout",
     "output_type": "stream",
     "text": [
      "Finished with jan\n",
      "Finished with feb\n",
      "Finished with mar\n",
      "Finished with apr\n",
      "Finished with may\n",
      "Finished with jun\n"
     ]
    }
   ],
   "source": [
    "for prefix in prefices:\n",
    "    df = pd.read_csv(\"../data/hackathon/data/workable/\" + prefix + \"-17_train_preped_5.csv\")\n",
    "    datetime_arr = []\n",
    "    for i in range(df.shape[0]):\n",
    "        dat = df[\"Date (GMT)\"].ix[i]\n",
    "        try:\n",
    "            s = datetime.datetime.strptime(dat, \"%d/%m/%Y %H:%M\")\n",
    "            datetime_arr.append(s)\n",
    "        except:\n",
    "            dat_placeholder = \"31/12/2016 14:28\"\n",
    "            s = datetime.datetime.strptime(dat_placeholder, \"%d/%m/%Y %H:%M\")\n",
    "            datetime_arr.append(s)\n",
    "    df['Date (GMT)'] = pd.Series(datetime_arr)\n",
    "    df['Date (GMT)'] = pd.to_datetime(df['Date (GMT)'])\n",
    "\n",
    "    df.to_csv(\"../data/hackathon/data/workable/\" + prefix + \"-17_dates_6.csv\")\n",
    "    print(\"Finished with\", prefix)"
   ]
  },
  {
   "cell_type": "code",
   "execution_count": 5,
   "metadata": {
    "collapsed": false
   },
   "outputs": [
    {
     "data": {
      "text/plain": [
       "34692"
      ]
     },
     "execution_count": 5,
     "metadata": {},
     "output_type": "execute_result"
    }
   ],
   "source": [
    "df['Date (GMT)'][df['Date (GMT)'] > datetime.date(year=2017,month=4,day=17)].shape[0]"
   ]
  },
  {
   "cell_type": "code",
   "execution_count": null,
   "metadata": {
    "collapsed": true
   },
   "outputs": [],
   "source": []
  }
 ],
 "metadata": {
  "kernelspec": {
   "display_name": "Python 3",
   "language": "python",
   "name": "python3"
  },
  "language_info": {
   "codemirror_mode": {
    "name": "ipython",
    "version": 3
   },
   "file_extension": ".py",
   "mimetype": "text/x-python",
   "name": "python",
   "nbconvert_exporter": "python",
   "pygments_lexer": "ipython3",
   "version": "3.5.2"
  }
 },
 "nbformat": 4,
 "nbformat_minor": 2
}
