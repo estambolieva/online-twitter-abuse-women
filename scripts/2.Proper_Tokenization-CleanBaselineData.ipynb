{
 "cells": [
  {
   "cell_type": "code",
   "execution_count": 9,
   "metadata": {
    "collapsed": true
   },
   "outputs": [],
   "source": [
    "import re\n",
    "from tweetokenize import Tokenizer\n",
    "import csv\n",
    "import pandas as pd"
   ]
  },
  {
   "cell_type": "code",
   "execution_count": 10,
   "metadata": {
    "collapsed": true
   },
   "outputs": [],
   "source": [
    "censored_RE = re.compile(r\"([\\w]+[*]+[\\w]{0,10})\")"
   ]
  },
  {
   "cell_type": "code",
   "execution_count": 11,
   "metadata": {
    "collapsed": true
   },
   "outputs": [],
   "source": [
    "tok = Tokenizer(user=\"USER\", urls=\"\")"
   ]
  },
  {
   "cell_type": "code",
   "execution_count": 12,
   "metadata": {
    "collapsed": true
   },
   "outputs": [],
   "source": [
    "data = [\n",
    "    \"Shut up muffin you soft a** b*tch\",\n",
    "    \"I just finished dinner.\"\n",
    "]"
   ]
  },
  {
   "cell_type": "code",
   "execution_count": 13,
   "metadata": {
    "collapsed": false
   },
   "outputs": [],
   "source": [
    "def doc_to_list(document):\n",
    "    document_words = []\n",
    "    censored_words = re.findall(censored_RE, document)\n",
    "    for cword in censored_words:\n",
    "        document = document.replace(cword, \"\")\n",
    "    document_words.extend(censored_words)\n",
    "    document_words.extend(tok.tokenize(document))\n",
    "    # all mentions are replaced by USERNAME - this does not help classification - discard\n",
    "    while \"USERNAME\" in document_words:\n",
    "        document_words.remove(\"USERNAME\")\n",
    "    return [w.lower() for w in document_words]"
   ]
  },
  {
   "cell_type": "code",
   "execution_count": 14,
   "metadata": {
    "collapsed": false
   },
   "outputs": [
    {
     "name": "stdout",
     "output_type": "stream",
     "text": [
      "['a**', 'b*tch', 'shut', 'up', 'muffin', 'you', 'soft']\n",
      "['i', 'just', 'finished', 'dinner', '.']\n"
     ]
    }
   ],
   "source": [
    "# test\n",
    "for datum in data:\n",
    "    print(doc_to_list(datum))"
   ]
  },
  {
   "cell_type": "code",
   "execution_count": 22,
   "metadata": {
    "collapsed": true
   },
   "outputs": [],
   "source": [
    "prefices = [\n",
    "    \"jan\",\n",
    "    \"feb\",\n",
    "    \"mar\",\n",
    "    \"apr\",\n",
    "    \"may\",\n",
    "    \"jun\"\n",
    "]"
   ]
  },
  {
   "cell_type": "code",
   "execution_count": 23,
   "metadata": {
    "collapsed": false
   },
   "outputs": [],
   "source": [
    "for filename_prefix in prefices:\n",
    "    with open(\"../data/hackathon/data/workable/\" + filename_prefix + \"-17_tok_2.csv\", \"w\") as output_handle:\n",
    "        writer = csv.writer(output_handle)\n",
    "        header = []\n",
    "        header_not_read = True\n",
    "        with open(\"../data/hackathon/data/workable/\" + filename_prefix + \"-17_no_duplicates_no_new_lines_1.csv\", \"r\") as handle:\n",
    "            reader = csv.reader(handle)\n",
    "            for row in reader:\n",
    "                if header_not_read:\n",
    "                    header = row\n",
    "                    header.append(\"TweetTok\")\n",
    "                    writer.writerow(header)\n",
    "                    header_not_read = False\n",
    "                    continue\n",
    "                document = row[3]\n",
    "                tok_doc_list = doc_to_list(document)\n",
    "                row.append(\" \".join(tok_doc_list))\n",
    "                writer.writerow(row)\n",
    "            "
   ]
  },
  {
   "cell_type": "code",
   "execution_count": null,
   "metadata": {
    "collapsed": false
   },
   "outputs": [],
   "source": []
  }
 ],
 "metadata": {
  "kernelspec": {
   "display_name": "Python 3",
   "language": "python",
   "name": "python3"
  },
  "language_info": {
   "codemirror_mode": {
    "name": "ipython",
    "version": 3
   },
   "file_extension": ".py",
   "mimetype": "text/x-python",
   "name": "python",
   "nbconvert_exporter": "python",
   "pygments_lexer": "ipython3",
   "version": "3.5.2"
  }
 },
 "nbformat": 4,
 "nbformat_minor": 2
}
