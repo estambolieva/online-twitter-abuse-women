{
 "cells": [
  {
   "cell_type": "code",
   "execution_count": 1,
   "metadata": {
    "collapsed": true
   },
   "outputs": [],
   "source": [
    "import csv"
   ]
  },
  {
   "cell_type": "code",
   "execution_count": 2,
   "metadata": {
    "collapsed": true
   },
   "outputs": [],
   "source": [
    "prefices = [\n",
    "    \"jan\",\n",
    "    \"feb\",\n",
    "    \"mar\",\n",
    "    \"apr\",\n",
    "    \"may\",\n",
    "    \"jun\"\n",
    "]"
   ]
  },
  {
   "cell_type": "code",
   "execution_count": 3,
   "metadata": {
    "collapsed": false
   },
   "outputs": [
    {
     "name": "stdout",
     "output_type": "stream",
     "text": [
      "jan-17.csv has 161678 unique lines.\n",
      "feb-17.csv has 181745 unique lines.\n",
      "mar-17.csv has 159760 unique lines.\n",
      "apr-17.csv has 167079 unique lines.\n",
      "may-17.csv has 195268 unique lines.\n",
      "jun-17.csv has 34693 unique lines.\n"
     ]
    }
   ],
   "source": [
    "# -17.csv - the big data files\n",
    "for prefix in prefices:\n",
    "    duplicates = {}\n",
    "    header = []\n",
    "    header_not_read = True\n",
    "    with open(\"../data/hackathon/data/\" + prefix + \"-17.csv\", \"r\", encoding=\"ISO-8859-1\") as handle:\n",
    "        reader = csv.reader(handle)\n",
    "        for row in reader:\n",
    "            if header_not_read:\n",
    "                header = row\n",
    "                header_not_read = False\n",
    "                continue\n",
    "            no_new_line_tweet = row[3].replace(\"\\n\", \" \")\n",
    "            row[3] = no_new_line_tweet\n",
    "#             row.append(no_new_line_tweet)\n",
    "            duplicates[no_new_line_tweet] = row\n",
    "            \n",
    "        print(prefix + \"-17.csv has\", len(duplicates), \"unique lines.\")\n",
    "    \n",
    "    with open(\"../data/hackathon/data/workable/\" + prefix + \"-17_no_duplicates_no_new_lines_1.csv\", \"w\") as output_handle:\n",
    "        writer=csv.writer(output_handle)\n",
    "#         header.append(\"TweetNoNewLines\")\n",
    "        writer.writerow(header)\n",
    "        for row in duplicates.values():\n",
    "            writer.writerow(row)\n"
   ]
  },
  {
   "cell_type": "code",
   "execution_count": null,
   "metadata": {
    "collapsed": true
   },
   "outputs": [],
   "source": []
  },
  {
   "cell_type": "code",
   "execution_count": null,
   "metadata": {
    "collapsed": true
   },
   "outputs": [],
   "source": []
  }
 ],
 "metadata": {
  "kernelspec": {
   "display_name": "Python 3",
   "language": "python",
   "name": "python3"
  },
  "language_info": {
   "codemirror_mode": {
    "name": "ipython",
    "version": 3
   },
   "file_extension": ".py",
   "mimetype": "text/x-python",
   "name": "python",
   "nbconvert_exporter": "python",
   "pygments_lexer": "ipython3",
   "version": "3.5.2"
  }
 },
 "nbformat": 4,
 "nbformat_minor": 2
}
